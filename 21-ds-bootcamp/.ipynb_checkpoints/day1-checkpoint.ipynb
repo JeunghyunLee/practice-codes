{
 "cells": [
  {
   "cell_type": "markdown",
   "metadata": {},
   "source": [
    "# Day 1"
   ]
  },
  {
   "cell_type": "markdown",
   "metadata": {},
   "source": [
    "## This course is about..\n",
    "* fundamental programming concepts to handle data\n",
    "* how to efficiently process data to draw conclusions: Algorithms\n",
    "* Data types/structures \n",
    "* Clarification: more about fundamental concepts by using Python as a tool\n",
    "* glimpse of how Silicon Valley companies do technical interviews to recruit software engineers"
   ]
  },
  {
   "cell_type": "markdown",
   "metadata": {},
   "source": [
    "-----------------------------"
   ]
  },
  {
   "cell_type": "markdown",
   "metadata": {},
   "source": [
    "#### Computer architecture Abstraction - Thank you operating system!\n",
    "* Software\n",
    "    * Application\n",
    "    * Operating system\n",
    "    \n",
    "---- Abstraction ---- --> Python interpreter가 복잡한 일은 다 해준다\n",
    "* Hardware"
   ]
  },
  {
   "cell_type": "markdown",
   "metadata": {},
   "source": [
    "-------"
   ]
  },
  {
   "cell_type": "markdown",
   "metadata": {},
   "source": [
    "#### Call Expressions\n",
    "* Operator can be a function \n",
    "* Call expression: An expression that calls a function \n",
    "* ex) max(2,3)\n",
    "    * operators: max\n",
    "    operands: 2, 3 (value that operator takes)\n",
    "* An operand can also be a call expression "
   ]
  },
  {
   "cell_type": "code",
   "execution_count": 19,
   "metadata": {},
   "outputs": [
    {
     "data": {
      "text/plain": [
       "9"
      ]
     },
     "execution_count": 19,
     "metadata": {},
     "output_type": "execute_result"
    }
   ],
   "source": [
    "max( min(2,3), min(9, 10) )"
   ]
  },
  {
   "cell_type": "markdown",
   "metadata": {},
   "source": [
    "#### Variables and Names\n",
    "* Name values: Variable\n",
    "* naming rules\n",
    "    * Case sensitive\n",
    "    * cannot start with a digit\n",
    "* Reserved word\n",
    "    * a name that Python already uses: True, False,..."
   ]
  },
  {
   "cell_type": "markdown",
   "metadata": {},
   "source": [
    "#### Assignment\n",
    "* Create a new variable by naming and assigning it to a value"
   ]
  },
  {
   "cell_type": "code",
   "execution_count": 20,
   "metadata": {},
   "outputs": [
    {
     "data": {
      "text/plain": [
       "(2, 1)"
      ]
     },
     "execution_count": 20,
     "metadata": {},
     "output_type": "execute_result"
    }
   ],
   "source": [
    "x, y = 1, 2\n",
    "y, x"
   ]
  },
  {
   "cell_type": "code",
   "execution_count": 21,
   "metadata": {},
   "outputs": [
    {
     "data": {
      "text/plain": [
       "20.5"
      ]
     },
     "execution_count": 21,
     "metadata": {},
     "output_type": "execute_result"
    }
   ],
   "source": [
    "temp_celsius = 20\n",
    "temp_celsius + 5/10"
   ]
  },
  {
   "cell_type": "code",
   "execution_count": 22,
   "metadata": {},
   "outputs": [
    {
     "data": {
      "text/plain": [
       "'apple'"
      ]
     },
     "execution_count": 22,
     "metadata": {},
     "output_type": "execute_result"
    }
   ],
   "source": [
    "(x, y) = (\"apple\", \"banana\")\n",
    "x"
   ]
  },
  {
   "cell_type": "markdown",
   "metadata": {},
   "source": [
    "#### Memory Model\n",
    "* A memory object --> 집 같은 공간\n",
    "    * Address --> 주소가 있고\n",
    "    * Value --> 누군가 살고 있음\n",
    "--> Assignment가 이루어질 때마다 일어나는 일\n",
    "* Reassignment\n",
    "    * 값을 덮어쓰는 것이 아니라 point (address)가 달라진다\n",
    "    * 값이 아예 없다면 나중엔 사라지게 됨"
   ]
  },
  {
   "cell_type": "code",
   "execution_count": 23,
   "metadata": {},
   "outputs": [
    {
     "data": {
      "text/plain": [
       "11.0"
      ]
     },
     "execution_count": 23,
     "metadata": {},
     "output_type": "execute_result"
    }
   ],
   "source": [
    "# Reassignment\n",
    "temp_celsius = 31.0\n",
    "difference = 10.0\n",
    "temp_celsius = temp_celsius - 2*difference\n",
    "difference = 5.0\n",
    "temp_celsius"
   ]
  },
  {
   "cell_type": "markdown",
   "metadata": {},
   "source": [
    "----"
   ]
  },
  {
   "cell_type": "markdown",
   "metadata": {},
   "source": [
    "#### Defining Our Own functions"
   ]
  },
  {
   "cell_type": "code",
   "execution_count": 30,
   "metadata": {},
   "outputs": [],
   "source": [
    "def convert_to_fahrenheit(celsius):\n",
    "    return celsius * 5/9 + 32"
   ]
  },
  {
   "cell_type": "code",
   "execution_count": 33,
   "metadata": {},
   "outputs": [
    {
     "data": {
      "text/plain": [
       "37.55555555555556"
      ]
     },
     "execution_count": 33,
     "metadata": {},
     "output_type": "execute_result"
    }
   ],
   "source": [
    "celsius = 10\n",
    "convert_to_fahrenheit(celsius)"
   ]
  },
  {
   "cell_type": "code",
   "execution_count": 34,
   "metadata": {},
   "outputs": [
    {
     "data": {
      "text/plain": [
       "37.55555555555556"
      ]
     },
     "execution_count": 34,
     "metadata": {},
     "output_type": "execute_result"
    }
   ],
   "source": [
    "convert_to_fahrenheit(10)"
   ]
  },
  {
   "cell_type": "code",
   "execution_count": 35,
   "metadata": {},
   "outputs": [
    {
     "data": {
      "text/plain": [
       "86.4"
      ]
     },
     "execution_count": 35,
     "metadata": {},
     "output_type": "execute_result"
    }
   ],
   "source": [
    "def convert_to_celsius(fahrenheit):\n",
    "    return (fahrenheit - 32) * 9/5\n",
    "convert_to_celsius(80)"
   ]
  },
  {
   "cell_type": "markdown",
   "metadata": {},
   "source": [
    "#### Generalization"
   ]
  },
  {
   "cell_type": "markdown",
   "metadata": {},
   "source": [
    "#### Local variables\n",
    "* a, b\n",
    "* When python executes a function call, it creates a namespace in which to store local variables for that call \n",
    "1. Evluate the arguments left to rigth \n",
    "2. Create a namespace to hold the function call's local variables, including the parameters\n",
    "3. Pass the resulting value to assign it to the function parameter\n",
    "4. Get the return value of the function "
   ]
  },
  {
   "cell_type": "markdown",
   "metadata": {},
   "source": [
    "#### Guidelines for Designing a new function\n",
    "1. Name: What do you name the function?\n",
    "2. Param: What are the parameters, what types of information do they refer to?\n",
    "3. Body: what calculations are you doing with that information?\n",
    "4. Return: What information does the function return? \n",
    "5. Write the function header\n",
    "6. Write a short description \n",
    "7. Write the function body"
   ]
  },
  {
   "cell_type": "code",
   "execution_count": 49,
   "metadata": {},
   "outputs": [],
   "source": [
    "def days_difference(day1: int, day2: int):\n",
    "    return day2-day1"
   ]
  },
  {
   "cell_type": "code",
   "execution_count": 50,
   "metadata": {},
   "outputs": [
    {
     "data": {
      "text/plain": [
       "1"
      ]
     },
     "execution_count": 50,
     "metadata": {},
     "output_type": "execute_result"
    }
   ],
   "source": [
    "days_difference(1, 2)"
   ]
  },
  {
   "cell_type": "code",
   "execution_count": null,
   "metadata": {},
   "outputs": [],
   "source": []
  }
 ],
 "metadata": {
  "kernelspec": {
   "display_name": "Python 3",
   "language": "python",
   "name": "python3"
  },
  "language_info": {
   "codemirror_mode": {
    "name": "ipython",
    "version": 3
   },
   "file_extension": ".py",
   "mimetype": "text/x-python",
   "name": "python",
   "nbconvert_exporter": "python",
   "pygments_lexer": "ipython3",
   "version": "3.6.5"
  }
 },
 "nbformat": 4,
 "nbformat_minor": 2
}
